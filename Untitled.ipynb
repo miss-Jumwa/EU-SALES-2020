{
 "cells": [
  {
   "cell_type": "code",
   "execution_count": 1,
   "id": "1448a4b9",
   "metadata": {},
   "outputs": [
    {
     "data": {
      "text/plain": [
       "5"
      ]
     },
     "execution_count": 1,
     "metadata": {},
     "output_type": "execute_result"
    }
   ],
   "source": [
    "#floor division // gives the number of times a number is divided\n",
    "15//3"
   ]
  },
  {
   "cell_type": "code",
   "execution_count": 2,
   "id": "cce65440",
   "metadata": {},
   "outputs": [
    {
     "data": {
      "text/plain": [
       "1"
      ]
     },
     "execution_count": 2,
     "metadata": {},
     "output_type": "execute_result"
    }
   ],
   "source": [
    "#modulus gives the reminder\n",
    "13%2"
   ]
  },
  {
   "cell_type": "code",
   "execution_count": 7,
   "id": "a2efd482",
   "metadata": {},
   "outputs": [
    {
     "data": {
      "text/plain": [
       "['john', 'mae', 'tina', 'cosy']"
      ]
     },
     "execution_count": 7,
     "metadata": {},
     "output_type": "execute_result"
    }
   ],
   "source": [
    "names=['john','mae','tina','cosy']\n",
    "names"
   ]
  },
  {
   "cell_type": "code",
   "execution_count": 4,
   "id": "2038cc29",
   "metadata": {},
   "outputs": [
    {
     "data": {
      "text/plain": [
       "('john', 'mae', 'tina', 'cosy')"
      ]
     },
     "execution_count": 4,
     "metadata": {},
     "output_type": "execute_result"
    }
   ],
   "source": [
    "#tuple is a list that cant be modified, it uses round brackets\n",
    "name=('john','mae','tina','cosy')\n",
    "name"
   ]
  },
  {
   "cell_type": "code",
   "execution_count": null,
   "id": "9a1eab56",
   "metadata": {},
   "outputs": [],
   "source": [
    "students"
   ]
  },
  {
   "cell_type": "code",
   "execution_count": null,
   "id": "84c85d21",
   "metadata": {},
   "outputs": [],
   "source": []
  },
  {
   "cell_type": "code",
   "execution_count": 9,
   "id": "0b4fe074",
   "metadata": {},
   "outputs": [
    {
     "name": "stdout",
     "output_type": "stream",
     "text": [
      "john\n",
      "mae\n",
      "tina\n",
      "cosy\n",
      "2\n"
     ]
    }
   ],
   "source": [
    "for name in names:\n",
    "    print (name)\n",
    "else:\n",
    "    print('2')"
   ]
  },
  {
   "cell_type": "code",
   "execution_count": null,
   "id": "488ca404",
   "metadata": {},
   "outputs": [],
   "source": []
  }
 ],
 "metadata": {
  "kernelspec": {
   "display_name": "Python 3 (ipykernel)",
   "language": "python",
   "name": "python3"
  },
  "language_info": {
   "codemirror_mode": {
    "name": "ipython",
    "version": 3
   },
   "file_extension": ".py",
   "mimetype": "text/x-python",
   "name": "python",
   "nbconvert_exporter": "python",
   "pygments_lexer": "ipython3",
   "version": "3.9.12"
  }
 },
 "nbformat": 4,
 "nbformat_minor": 5
}
