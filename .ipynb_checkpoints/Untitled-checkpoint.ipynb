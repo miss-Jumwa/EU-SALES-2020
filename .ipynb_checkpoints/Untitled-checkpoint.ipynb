{
 "cells": [
  {
   "cell_type": "code",
   "execution_count": 1,
   "id": "8b95f210",
   "metadata": {},
   "outputs": [
    {
     "data": {
      "text/plain": [
       "5"
      ]
     },
     "execution_count": 1,
     "metadata": {},
     "output_type": "execute_result"
    }
   ],
   "source": [
    "#floor division // gives the number of times a number is divided\n",
    "15//3"
   ]
  },
  {
   "cell_type": "code",
   "execution_count": 2,
   "id": "f43582ae",
   "metadata": {},
   "outputs": [
    {
     "data": {
      "text/plain": [
       "1"
      ]
     },
     "execution_count": 2,
     "metadata": {},
     "output_type": "execute_result"
    }
   ],
   "source": [
    "#modulus gives the reminder\n",
    "13%2"
   ]
  },
  {
   "cell_type": "code",
   "execution_count": 5,
   "id": "0eb0625e",
   "metadata": {},
   "outputs": [
    {
     "data": {
      "text/plain": [
       "['john', 'mae', 'tina', 'cosy']"
      ]
     },
     "execution_count": 5,
     "metadata": {},
     "output_type": "execute_result"
    }
   ],
   "source": [
    "name=['john','mae','tina','cosy']\n",
    "name"
   ]
  },
  {
   "cell_type": "code",
   "execution_count": 4,
   "id": "1f03fdf8",
   "metadata": {},
   "outputs": [
    {
     "data": {
      "text/plain": [
       "('john', 'mae', 'tina', 'cosy')"
      ]
     },
     "execution_count": 4,
     "metadata": {},
     "output_type": "execute_result"
    }
   ],
   "source": [
    "#tuple is a list that cant be modified, it uses round brackets\n",
    "name=('john','mae','tina','cosy')\n",
    "name"
   ]
  },
  {
   "cell_type": "code",
   "execution_count": null,
   "id": "864a2404",
   "metadata": {},
   "outputs": [],
   "source": []
  }
 ],
 "metadata": {
  "kernelspec": {
   "display_name": "Python 3 (ipykernel)",
   "language": "python",
   "name": "python3"
  },
  "language_info": {
   "codemirror_mode": {
    "name": "ipython",
    "version": 3
   },
   "file_extension": ".py",
   "mimetype": "text/x-python",
   "name": "python",
   "nbconvert_exporter": "python",
   "pygments_lexer": "ipython3",
   "version": "3.9.12"
  }
 },
 "nbformat": 4,
 "nbformat_minor": 5
}
